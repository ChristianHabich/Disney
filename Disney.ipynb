{
 "cells": [
  {
   "cell_type": "markdown",
   "metadata": {},
   "source": [
    "# Web Scraping Disney movies"
   ]
  },
  {
   "cell_type": "markdown",
   "metadata": {},
   "source": [
    "Goal: Scrape and clean data from Wikipedia using Beautiful Soup & Regex, add movie information via OMBD API and save as DataFrame, ready for analysis"
   ]
  },
  {
   "cell_type": "code",
   "execution_count": 112,
   "metadata": {},
   "outputs": [],
   "source": [
    "import requests\n",
    "from bs4 import BeautifulSoup\n",
    "import re\n",
    "import json\n",
    "import os\n",
    "import pandas as pd"
   ]
  },
  {
   "cell_type": "markdown",
   "metadata": {},
   "source": [
    "### 1. Get wiki infobox for Toy Story 3"
   ]
  },
  {
   "cell_type": "code",
   "execution_count": 113,
   "metadata": {},
   "outputs": [],
   "source": [
    "toystory = requests.get('https://en.wikipedia.org/wiki/Toy_Story_3')"
   ]
  },
  {
   "cell_type": "code",
   "execution_count": 114,
   "metadata": {},
   "outputs": [],
   "source": [
    "soup = BeautifulSoup(toystory.content)"
   ]
  },
  {
   "cell_type": "code",
   "execution_count": 115,
   "metadata": {},
   "outputs": [],
   "source": [
    "info_box = soup.find(class_='infobox vevent')\n",
    "info_rows = info_box.find_all('tr')"
   ]
  },
  {
   "cell_type": "code",
   "execution_count": 116,
   "metadata": {},
   "outputs": [
    {
     "data": {
      "text/plain": [
       "{'title': 'Toy Story 3',\n",
       " 'Directed by': 'Lee Unkrich',\n",
       " 'Screenplay by': 'Michael Arndt',\n",
       " 'Story by': ['John Lasseter', 'Andrew Stanton', 'Lee Unkrich'],\n",
       " 'Produced by': 'Darla K. Anderson',\n",
       " 'Starring': ['Tom Hanks',\n",
       "  'Tim Allen',\n",
       "  'Joan Cusack',\n",
       "  'Don Rickles',\n",
       "  'Wallace Shawn',\n",
       "  'John Ratzenberger',\n",
       "  'Estelle Harris',\n",
       "  'Ned Beatty',\n",
       "  'Michael Keaton',\n",
       "  'Jodi Benson',\n",
       "  'John Morris'],\n",
       " 'Cinematography': ['Jeremy Lasky', 'Kim White'],\n",
       " 'Edited by': 'Ken Schretzmann',\n",
       " 'Music by': 'Randy Newman',\n",
       " 'Production companies': ['Walt Disney Pictures', 'Pixar Animation Studios'],\n",
       " 'Distributed by': 'Walt Disney Studios Motion Pictures',\n",
       " 'Release date': ['June\\xa012,\\xa02010 ( 2010-06-12 ) ( Taormina Film Fest )',\n",
       "  'June\\xa018,\\xa02010 ( 2010-06-18 ) (United States)'],\n",
       " 'Running time': '103 minutes [1]',\n",
       " 'Country': 'United States',\n",
       " 'Language': 'English',\n",
       " 'Budget': '$200\\xa0million [1]',\n",
       " 'Box office': '$1.067\\xa0billion [1]'}"
      ]
     },
     "execution_count": 116,
     "metadata": {},
     "output_type": "execute_result"
    }
   ],
   "source": [
    "movie_info = {}\n",
    "\n",
    "def multi_data(r):\n",
    "    if r.find('li'):\n",
    "        return [li.get_text(' ', strip=True) for li in r.find_all('li')]\n",
    "    else:\n",
    "        return r.get_text(' ', strip=True)\n",
    "\n",
    "for index,row in enumerate(info_rows):\n",
    "    if index==0:\n",
    "        movie_info['title']=row.find('th').get_text()\n",
    "    else:\n",
    "        header = row.find('th')\n",
    "        if header:\n",
    "            movie_info[row.find('th').get_text(' ', strip=True)]=multi_data(row.find('td'))\n",
    "             \n",
    "movie_info"
   ]
  },
  {
   "cell_type": "markdown",
   "metadata": {},
   "source": [
    "### 2. List of dictionnaries with infoboxes of all Disney movies"
   ]
  },
  {
   "cell_type": "code",
   "execution_count": 117,
   "metadata": {},
   "outputs": [],
   "source": [
    "disneymovies = requests.get('https://en.wikipedia.org/wiki/List_of_Walt_Disney_Pictures_films')"
   ]
  },
  {
   "cell_type": "code",
   "execution_count": 118,
   "metadata": {},
   "outputs": [],
   "source": [
    "soup = BeautifulSoup(disneymovies.content)"
   ]
  },
  {
   "cell_type": "code",
   "execution_count": 119,
   "metadata": {},
   "outputs": [
    {
     "data": {
      "text/plain": [
       "'/wiki/Pinocchio_(1940_film)'"
      ]
     },
     "execution_count": 119,
     "metadata": {},
     "output_type": "execute_result"
    }
   ],
   "source": [
    "wiki = []\n",
    "\n",
    "for tr in soup.find_all('tbody'):\n",
    "    for i in tr.find_all('tr'):\n",
    "        for a in i.find_all('i'):\n",
    "            for href in a.find_all('a'):\n",
    "                wiki.append(href.get('href'))\n",
    "                \n",
    "wiki = wiki[1:]\n",
    "wiki[2]"
   ]
  },
  {
   "cell_type": "code",
   "execution_count": 9,
   "metadata": {},
   "outputs": [
    {
     "name": "stdout",
     "output_type": "stream",
     "text": [
      "/wiki/Zorro_(1957_TV_series)#Theatrical\n",
      "'NoneType' object has no attribute 'find'\n",
      "/wiki/Zorro_(1957_TV_series)#Theatrical\n",
      "'NoneType' object has no attribute 'find'\n",
      "/wiki/True-Life_Adventures\n",
      "'NoneType' object has no attribute 'find_all'\n",
      "/wiki/The_Omega_Connection\n",
      "'NoneType' object has no attribute 'find'\n",
      "/wiki/True-Life_Adventures#Films\n",
      "'NoneType' object has no attribute 'find_all'\n",
      "/wiki/Tim_Federle#Fiction\n",
      "'NoneType' object has no attribute 'find_all'\n"
     ]
    }
   ],
   "source": [
    "disney_movies=[]\n",
    "\n",
    "for href in wiki:\n",
    "    \n",
    "    try:\n",
    "        url = requests.get('https://en.wikipedia.org' + href)\n",
    "        soup = BeautifulSoup(url.content)\n",
    "        info_box = soup.find(class_='infobox vevent')\n",
    "        info_rows = info_box.find_all('tr')\n",
    "\n",
    "        movie_info = {}\n",
    "\n",
    "        def multi_data(r):\n",
    "            if r.find('li'):\n",
    "                return [li.get_text(' ', strip=True) for li in r.find_all('li')]\n",
    "            elif r.find('br'):\n",
    "                return [text for text in r.stripped_strings]\n",
    "            else:\n",
    "                return r.get_text(' ', strip=True)\n",
    "\n",
    "        for index,row in enumerate(info_rows):\n",
    "            if index==0:\n",
    "                movie_info['title']=row.find('th').get_text()\n",
    "            else:\n",
    "                header = row.find('th')\n",
    "                if header:\n",
    "                    movie_info[row.find('th').get_text(' ', strip=True)]=multi_data(row.find('td'))\n",
    "\n",
    "        disney_movies.append(movie_info)\n",
    "        \n",
    "    except Exception as e:\n",
    "        print(href)\n",
    "        print(e)"
   ]
  },
  {
   "cell_type": "code",
   "execution_count": 10,
   "metadata": {},
   "outputs": [
    {
     "data": {
      "text/plain": [
       "449"
      ]
     },
     "execution_count": 10,
     "metadata": {},
     "output_type": "execute_result"
    }
   ],
   "source": [
    "len(disney_movies)"
   ]
  },
  {
   "cell_type": "code",
   "execution_count": 11,
   "metadata": {},
   "outputs": [],
   "source": [
    "def save_json(title, data):\n",
    "    with open(title, 'w', encoding='utf-8') as f:\n",
    "        json.dump(data, f, ensure_ascii=False, indent=2)"
   ]
  },
  {
   "cell_type": "code",
   "execution_count": 12,
   "metadata": {},
   "outputs": [],
   "source": [
    "save_json('disney_movies.json',disney_movies)"
   ]
  },
  {
   "cell_type": "code",
   "execution_count": 13,
   "metadata": {},
   "outputs": [],
   "source": [
    "def load_json(title):\n",
    "    with open(title, encoding='utf-8') as f:\n",
    "        return json.load(f)"
   ]
  },
  {
   "cell_type": "code",
   "execution_count": 42,
   "metadata": {},
   "outputs": [],
   "source": [
    "disney_movies = load_json('disney_movies.json')"
   ]
  },
  {
   "cell_type": "markdown",
   "metadata": {},
   "source": [
    "### 3. Clean-up of data"
   ]
  },
  {
   "cell_type": "markdown",
   "metadata": {},
   "source": [
    "3.1 remove references"
   ]
  },
  {
   "cell_type": "code",
   "execution_count": 43,
   "metadata": {},
   "outputs": [
    {
     "data": {
      "text/plain": [
       "'$2.6 million [3]'"
      ]
     },
     "execution_count": 43,
     "metadata": {},
     "output_type": "execute_result"
    }
   ],
   "source": [
    "disney_movies[2]['Budget']"
   ]
  },
  {
   "cell_type": "code",
   "execution_count": 44,
   "metadata": {},
   "outputs": [
    {
     "data": {
      "text/plain": [
       "'$2.6 million'"
      ]
     },
     "execution_count": 44,
     "metadata": {},
     "output_type": "execute_result"
    }
   ],
   "source": [
    "for movie in disney_movies:\n",
    "    for k,v in movie.items():\n",
    "        if isinstance(v,str):\n",
    "                movie[k] = re.sub(r'\\s\\[\\d+\\]','',v)\n",
    "        else:\n",
    "            for index,item in enumerate(v):\n",
    "                v[index] = re.sub(r'\\s\\[\\d+\\]','',item)              \n",
    "disney_movies[2]['Budget']"
   ]
  },
  {
   "cell_type": "markdown",
   "metadata": {},
   "source": [
    "3.2. remove non-breaking space"
   ]
  },
  {
   "cell_type": "code",
   "execution_count": 45,
   "metadata": {},
   "outputs": [
    {
     "data": {
      "text/plain": [
       "'$164\\xa0million'"
      ]
     },
     "execution_count": 45,
     "metadata": {},
     "output_type": "execute_result"
    }
   ],
   "source": [
    "disney_movies[2]['Box office']"
   ]
  },
  {
   "cell_type": "code",
   "execution_count": 46,
   "metadata": {},
   "outputs": [
    {
     "data": {
      "text/plain": [
       "'$164 million'"
      ]
     },
     "execution_count": 46,
     "metadata": {},
     "output_type": "execute_result"
    }
   ],
   "source": [
    "for movie in disney_movies:\n",
    "    for k,v in movie.items():\n",
    "        if isinstance(v,str):\n",
    "                movie[k] = v.replace('\\xa0',' ')\n",
    "        else:\n",
    "            for index,item in enumerate(v):\n",
    "                v[index] = item.replace('\\xa0',' ')\n",
    "disney_movies[2]['Box office']"
   ]
  },
  {
   "cell_type": "code",
   "execution_count": 47,
   "metadata": {},
   "outputs": [],
   "source": [
    "def min_to_int(running_time):\n",
    "    if running_time == 'N/A':\n",
    "        return None\n",
    "    if isinstance(running_time, list):\n",
    "        first_entry = running_time[0]\n",
    "        return int(first_entry.split(' ')[0])\n",
    "    else:\n",
    "        return int(running_time.split(' ')[0])"
   ]
  },
  {
   "cell_type": "markdown",
   "metadata": {},
   "source": [
    "3.3 running time to int"
   ]
  },
  {
   "cell_type": "code",
   "execution_count": 48,
   "metadata": {},
   "outputs": [
    {
     "data": {
      "text/plain": [
       "'88 minutes'"
      ]
     },
     "execution_count": 48,
     "metadata": {},
     "output_type": "execute_result"
    }
   ],
   "source": [
    "disney_movies[2]['Running time']"
   ]
  },
  {
   "cell_type": "code",
   "execution_count": 49,
   "metadata": {},
   "outputs": [
    {
     "data": {
      "text/plain": [
       "88"
      ]
     },
     "execution_count": 49,
     "metadata": {},
     "output_type": "execute_result"
    }
   ],
   "source": [
    "for movie in disney_movies:\n",
    "    movie['Running time (int)'] = min_to_int(movie.get('Running time','N/A'))\n",
    "disney_movies[2]['Running time (int)']"
   ]
  },
  {
   "cell_type": "markdown",
   "metadata": {},
   "source": [
    "3.4. release date to dt"
   ]
  },
  {
   "cell_type": "code",
   "execution_count": 50,
   "metadata": {},
   "outputs": [],
   "source": [
    "def date_convert(date):\n",
    "    if isinstance(date, list):\n",
    "        date = date[0]\n",
    "    if date == 'N/A':\n",
    "        return None\n",
    "    date = date.split('(')[0].strip()\n",
    "    return date"
   ]
  },
  {
   "cell_type": "code",
   "execution_count": 51,
   "metadata": {},
   "outputs": [
    {
     "data": {
      "text/plain": [
       "['February 7, 1940 ( 1940-02-07 ) ( Center Theatre )',\n",
       " 'February 23, 1940 ( 1940-02-23 ) (United States)']"
      ]
     },
     "execution_count": 51,
     "metadata": {},
     "output_type": "execute_result"
    }
   ],
   "source": [
    "disney_movies[2]['Release date']"
   ]
  },
  {
   "cell_type": "code",
   "execution_count": 52,
   "metadata": {},
   "outputs": [
    {
     "data": {
      "text/plain": [
       "'February 7, 1940'"
      ]
     },
     "execution_count": 52,
     "metadata": {},
     "output_type": "execute_result"
    }
   ],
   "source": [
    "for movie in disney_movies:\n",
    "    movie['Release date (datetime)'] = date_convert(movie.get('Release date','N/A'))\n",
    "disney_movies[2]['Release date (datetime)']"
   ]
  },
  {
   "cell_type": "markdown",
   "metadata": {},
   "source": [
    "3.5. budget & box office to int format"
   ]
  },
  {
   "cell_type": "code",
   "execution_count": 53,
   "metadata": {},
   "outputs": [],
   "source": [
    "def dollar_budgetbox(ex):\n",
    "    if ex == 'N/A':\n",
    "        return None\n",
    "    if isinstance(ex,list):\n",
    "        ex = ex[0]\n",
    "    if bool(re.search('\\$',ex)):\n",
    "        ex = re.search('\\$(.*)',ex).group()\n",
    "        if bool(re.search('million',ex)):\n",
    "            if bool(re.search('\\d+\\.\\d+',ex)):\n",
    "                return (int(re.search('\\$.?\\d+',ex).group()[1:])*1000000\n",
    "                        + int(re.search('\\.\\d+',ex).group()[1:])\n",
    "                        *10**(6-len(re.search('\\.\\d+',ex).group()[1:])))\n",
    "            else:\n",
    "                return (int(re.search('\\$.?\\d+',ex).group()[1:])*1000000)\n",
    "        else:\n",
    "            if bool(re.search('\\d+\\.\\d+',ex)):\n",
    "                return int(re.search('\\$.?\\d+',''.join(re.split('\\.',ex))).group()[1:])\n",
    "            else:\n",
    "                return int(re.search('\\$.?\\d+',''.join(re.split('\\,',ex))).group()[1:])"
   ]
  },
  {
   "cell_type": "code",
   "execution_count": 54,
   "metadata": {},
   "outputs": [
    {
     "data": {
      "text/plain": [
       "2600000"
      ]
     },
     "execution_count": 54,
     "metadata": {},
     "output_type": "execute_result"
    }
   ],
   "source": [
    "for movie in disney_movies:\n",
    "    movie['budget in dollars'] = dollar_budgetbox(movie.get('Budget','N/A'))\n",
    "disney_movies[2]['budget in dollars']"
   ]
  },
  {
   "cell_type": "code",
   "execution_count": 55,
   "metadata": {},
   "outputs": [
    {
     "data": {
      "text/plain": [
       "164000000"
      ]
     },
     "execution_count": 55,
     "metadata": {},
     "output_type": "execute_result"
    }
   ],
   "source": [
    "for movie in disney_movies:\n",
    "    movie['box in dollars'] = dollar_budgetbox(movie.get('Box office','N/A'))\n",
    "disney_movies[2]['box in dollars']"
   ]
  },
  {
   "cell_type": "code",
   "execution_count": 56,
   "metadata": {},
   "outputs": [
    {
     "data": {
      "text/plain": [
       "{'title': 'Pinocchio',\n",
       " 'Directed by': ['Ben Sharpsteen',\n",
       "  'Hamilton Luske',\n",
       "  'Bill Roberts',\n",
       "  'Norman Ferguson',\n",
       "  'Jack Kinney',\n",
       "  'Wilfred Jackson',\n",
       "  'T. Hee'],\n",
       " 'Story by': ['Ted Sears',\n",
       "  'Otto Englander',\n",
       "  'Webb Smith',\n",
       "  'William Cottrell',\n",
       "  'Joseph Sabo',\n",
       "  'Erdman Penner',\n",
       "  'Aurelius Battaglia'],\n",
       " 'Based on': ['The Adventures of Pinocchio', 'by', 'Carlo Collodi'],\n",
       " 'Produced by': 'Walt Disney',\n",
       " 'Starring': ['Cliff Edwards',\n",
       "  'Dickie Jones',\n",
       "  'Christian Rub',\n",
       "  'Walter Catlett',\n",
       "  'Charles Judels',\n",
       "  'Evelyn Venable',\n",
       "  'Frankie Darro'],\n",
       " 'Music by': ['Leigh Harline', 'Paul J. Smith'],\n",
       " 'Production company': 'Walt Disney Productions',\n",
       " 'Distributed by': 'RKO Radio Pictures',\n",
       " 'Release date': ['February 7, 1940 ( 1940-02-07 ) ( Center Theatre )',\n",
       "  'February 23, 1940 ( 1940-02-23 ) (United States)'],\n",
       " 'Running time': '88 minutes',\n",
       " 'Country': 'United States',\n",
       " 'Language': 'English',\n",
       " 'Budget': '$2.6 million',\n",
       " 'Box office': '$164 million',\n",
       " 'Running time (int)': 88,\n",
       " 'Release date (datetime)': 'February 7, 1940',\n",
       " 'budget in dollars': 2600000,\n",
       " 'box in dollars': 164000000}"
      ]
     },
     "execution_count": 56,
     "metadata": {},
     "output_type": "execute_result"
    }
   ],
   "source": [
    "disney_movies[2]"
   ]
  },
  {
   "cell_type": "markdown",
   "metadata": {},
   "source": [
    "### 4. Adding ratings from movie API"
   ]
  },
  {
   "cell_type": "code",
   "execution_count": 57,
   "metadata": {},
   "outputs": [
    {
     "data": {
      "text/plain": [
       "{'Title': 'One Hundred and One Dalmatians',\n",
       " 'Year': '1961',\n",
       " 'Rated': 'G',\n",
       " 'Released': '25 Jan 1961',\n",
       " 'Runtime': '79 min',\n",
       " 'Genre': 'Animation, Adventure, Comedy',\n",
       " 'Director': 'Clyde Geronimi, Hamilton Luske, Wolfgang Reitherman',\n",
       " 'Writer': 'Bill Peet, Dodie Smith',\n",
       " 'Actors': \"Rod Taylor, Betty Lou Gerson, J. Pat O'Malley\",\n",
       " 'Plot': 'When a litter of Dalmatian puppies are abducted by the minions of Cruella de Vil, the parents must find them before she uses them for a diabolical fashion statement.',\n",
       " 'Language': 'English',\n",
       " 'Country': 'United States',\n",
       " 'Awards': '1 win & 1 nomination total',\n",
       " 'Poster': 'https://m.media-amazon.com/images/M/MV5BZGMyMjE4OGUtNGZmMC00YzdmLThkMWYtZWIzMmEzNjA4MzVkXkEyXkFqcGdeQXVyMTQxNzMzNDI@._V1_SX300.jpg',\n",
       " 'Ratings': [{'Source': 'Internet Movie Database', 'Value': '7.3/10'},\n",
       "  {'Source': 'Rotten Tomatoes', 'Value': '98%'},\n",
       "  {'Source': 'Metacritic', 'Value': '83/100'}],\n",
       " 'Metascore': '83',\n",
       " 'imdbRating': '7.3',\n",
       " 'imdbVotes': '159,069',\n",
       " 'imdbID': 'tt0055254',\n",
       " 'Type': 'movie',\n",
       " 'DVD': '10 Aug 2016',\n",
       " 'BoxOffice': '$144,880,014',\n",
       " 'Production': 'Walt Disney Productions',\n",
       " 'Website': 'N/A',\n",
       " 'Response': 'True'}"
      ]
     },
     "execution_count": 57,
     "metadata": {},
     "output_type": "execute_result"
    }
   ],
   "source": [
    "def get_ombd(title):\n",
    "    ombd_url = 'http://www.omdbapi.com/?'\n",
    "    full_url = ombd_url + 'apikey=' + os.environ['OMDB_KEY'] + '&t=' + title\n",
    "    return requests.get(full_url).json()\n",
    "\n",
    "get_ombd('One Hundred and One Dalmatians')"
   ]
  },
  {
   "cell_type": "code",
   "execution_count": 58,
   "metadata": {},
   "outputs": [
    {
     "data": {
      "text/plain": [
       "'98%'"
      ]
     },
     "execution_count": 58,
     "metadata": {},
     "output_type": "execute_result"
    }
   ],
   "source": [
    "def get_tomato(movie):\n",
    "    score = movie.get('Ratings',[])\n",
    "    for s in score:\n",
    "        if s['Source'] == 'Rotten Tomatoes':\n",
    "            return s['Value']\n",
    "    return None\n",
    "\n",
    "get_tomato(get_ombd('One Hundred and One Dalmatians'))"
   ]
  },
  {
   "cell_type": "code",
   "execution_count": 59,
   "metadata": {},
   "outputs": [],
   "source": [
    "for movie in disney_movies:\n",
    "    title = movie['title']\n",
    "    movie['imbd'] = get_ombd(title).get('imdbRating',None)\n",
    "    movie['metascore'] = get_ombd(title).get('Metascore',None)\n",
    "    movie['rotten_tomatoes'] = get_tomato(get_ombd(title))"
   ]
  },
  {
   "cell_type": "code",
   "execution_count": 60,
   "metadata": {},
   "outputs": [
    {
     "data": {
      "text/plain": [
       "{'title': 'One Hundred and One Dalmatians',\n",
       " 'Directed by': ['Clyde Geronimi', 'Hamilton Luske', 'Wolfgang Reitherman'],\n",
       " 'Story by': 'Bill Peet',\n",
       " 'Based on': ['The Hundred and One Dalmatians', 'by', 'Dodie Smith'],\n",
       " 'Produced by': 'Walt Disney',\n",
       " 'Starring': ['Rod Taylor',\n",
       "  'Cate Bauer',\n",
       "  'Betty Lou Gerson',\n",
       "  'Ben Wright',\n",
       "  'Bill Lee (singing voice)',\n",
       "  'Lisa Davis',\n",
       "  'Martha Wentworth'],\n",
       " 'Edited by': ['Roy M. Brewer, Jr.', 'Donald Halliday'],\n",
       " 'Music by': 'George Bruns',\n",
       " 'Production company': 'Walt Disney Productions',\n",
       " 'Distributed by': 'Buena Vista Distribution',\n",
       " 'Release date': ['January 25, 1961 ( 1961-01-25 )'],\n",
       " 'Running time': '79 minutes',\n",
       " 'Country': 'United States',\n",
       " 'Language': 'English',\n",
       " 'Budget': '$3.6 million',\n",
       " 'Box office': '$303 million',\n",
       " 'Running time (int)': 79,\n",
       " 'Release date (datetime)': 'January 25, 1961',\n",
       " 'budget in dollars': 3600000,\n",
       " 'box in dollars': 303000000,\n",
       " 'imbd': '7.3',\n",
       " 'metascore': '83',\n",
       " 'rotten_tomatoes': '98%'}"
      ]
     },
     "execution_count": 60,
     "metadata": {},
     "output_type": "execute_result"
    }
   ],
   "source": [
    "disney_movies[50]"
   ]
  },
  {
   "cell_type": "markdown",
   "metadata": {},
   "source": [
    "### 5. Save in dataframe and csv"
   ]
  },
  {
   "cell_type": "code",
   "execution_count": 101,
   "metadata": {},
   "outputs": [],
   "source": [
    "import pandas as pd\n",
    "df = pd.DataFrame(disney_movies)"
   ]
  },
  {
   "cell_type": "code",
   "execution_count": 102,
   "metadata": {},
   "outputs": [],
   "source": [
    "def release_datetime(date):\n",
    "\n",
    "    ftms = [\"%B %d, %Y\",\"%d %B %Y\"]\n",
    "\n",
    "    for fmt in ftms:\n",
    "        try:\n",
    "            return pd.to_datetime(date,format=fmt)\n",
    "        except:\n",
    "            pass"
   ]
  },
  {
   "cell_type": "code",
   "execution_count": 103,
   "metadata": {},
   "outputs": [],
   "source": [
    "df['Release date (datetime)'] = df['Release date (datetime)'].apply(release_datetime)"
   ]
  },
  {
   "cell_type": "code",
   "execution_count": 104,
   "metadata": {},
   "outputs": [
    {
     "name": "stdout",
     "output_type": "stream",
     "text": [
      "<class 'pandas.core.frame.DataFrame'>\n",
      "RangeIndex: 449 entries, 0 to 448\n",
      "Data columns (total 37 columns):\n",
      " #   Column                   Non-Null Count  Dtype         \n",
      "---  ------                   --------------  -----         \n",
      " 0   title                    449 non-null    object        \n",
      " 1   Production company       190 non-null    object        \n",
      " 2   Release date             443 non-null    object        \n",
      " 3   Running time             437 non-null    object        \n",
      " 4   Country                  401 non-null    object        \n",
      " 5   Language                 432 non-null    object        \n",
      " 6   Box office               374 non-null    object        \n",
      " 7   Running time (int)       437 non-null    float64       \n",
      " 8   Release date (datetime)  437 non-null    datetime64[ns]\n",
      " 9   budget in dollars        284 non-null    float64       \n",
      " 10  box in dollars           369 non-null    float64       \n",
      " 11  imbd                     435 non-null    object        \n",
      " 12  metascore                435 non-null    object        \n",
      " 13  rotten_tomatoes          216 non-null    object        \n",
      " 14  Directed by              448 non-null    object        \n",
      " 15  Written by               202 non-null    object        \n",
      " 16  Based on                 233 non-null    object        \n",
      " 17  Produced by              440 non-null    object        \n",
      " 18  Starring                 414 non-null    object        \n",
      " 19  Music by                 444 non-null    object        \n",
      " 20  Distributed by           447 non-null    object        \n",
      " 21  Budget                   290 non-null    object        \n",
      " 22  Story by                 150 non-null    object        \n",
      " 23  Narrated by              56 non-null     object        \n",
      " 24  Cinematography           357 non-null    object        \n",
      " 25  Edited by                407 non-null    object        \n",
      " 26  Languages                16 non-null     object        \n",
      " 27  Screenplay by            210 non-null    object        \n",
      " 28  Countries                45 non-null     object        \n",
      " 29  Production companies     259 non-null    object        \n",
      " 30  Color process            3 non-null      object        \n",
      " 31  Japanese                 5 non-null      object        \n",
      " 32  Hepburn                  5 non-null      object        \n",
      " 33  Adaptation by            1 non-null      object        \n",
      " 34  Animation by             2 non-null      object        \n",
      " 35  Traditional              2 non-null      object        \n",
      " 36  Simplified               2 non-null      object        \n",
      "dtypes: datetime64[ns](1), float64(3), object(33)\n",
      "memory usage: 129.9+ KB\n"
     ]
    }
   ],
   "source": [
    "df.info()"
   ]
  },
  {
   "cell_type": "code",
   "execution_count": 105,
   "metadata": {},
   "outputs": [],
   "source": [
    "df.drop(df.columns[[2,3,6,21,23,26,28,30,31,32,33,34,35,36]],axis=1,inplace=True)"
   ]
  },
  {
   "cell_type": "code",
   "execution_count": 106,
   "metadata": {},
   "outputs": [
    {
     "data": {
      "text/plain": [
       "(449, 23)"
      ]
     },
     "execution_count": 106,
     "metadata": {},
     "output_type": "execute_result"
    }
   ],
   "source": [
    "df.shape"
   ]
  },
  {
   "cell_type": "code",
   "execution_count": 107,
   "metadata": {},
   "outputs": [
    {
     "data": {
      "text/html": [
       "<div>\n",
       "<style scoped>\n",
       "    .dataframe tbody tr th:only-of-type {\n",
       "        vertical-align: middle;\n",
       "    }\n",
       "\n",
       "    .dataframe tbody tr th {\n",
       "        vertical-align: top;\n",
       "    }\n",
       "\n",
       "    .dataframe thead th {\n",
       "        text-align: right;\n",
       "    }\n",
       "</style>\n",
       "<table border=\"1\" class=\"dataframe\">\n",
       "  <thead>\n",
       "    <tr style=\"text-align: right;\">\n",
       "      <th></th>\n",
       "      <th>title</th>\n",
       "      <th>Production company</th>\n",
       "      <th>Country</th>\n",
       "      <th>Language</th>\n",
       "      <th>Running time (int)</th>\n",
       "      <th>Release date (datetime)</th>\n",
       "      <th>budget in dollars</th>\n",
       "      <th>box in dollars</th>\n",
       "      <th>imbd</th>\n",
       "      <th>metascore</th>\n",
       "      <th>...</th>\n",
       "      <th>Based on</th>\n",
       "      <th>Produced by</th>\n",
       "      <th>Starring</th>\n",
       "      <th>Music by</th>\n",
       "      <th>Distributed by</th>\n",
       "      <th>Story by</th>\n",
       "      <th>Cinematography</th>\n",
       "      <th>Edited by</th>\n",
       "      <th>Screenplay by</th>\n",
       "      <th>Production companies</th>\n",
       "    </tr>\n",
       "  </thead>\n",
       "  <tbody>\n",
       "    <tr>\n",
       "      <th>50</th>\n",
       "      <td>One Hundred and One Dalmatians</td>\n",
       "      <td>Walt Disney Productions</td>\n",
       "      <td>United States</td>\n",
       "      <td>English</td>\n",
       "      <td>79.0</td>\n",
       "      <td>1961-01-25</td>\n",
       "      <td>3600000.0</td>\n",
       "      <td>303000000.0</td>\n",
       "      <td>7.3</td>\n",
       "      <td>83</td>\n",
       "      <td>...</td>\n",
       "      <td>[The Hundred and One Dalmatians, by, Dodie Smith]</td>\n",
       "      <td>Walt Disney</td>\n",
       "      <td>[Rod Taylor, Cate Bauer, Betty Lou Gerson, Ben...</td>\n",
       "      <td>George Bruns</td>\n",
       "      <td>Buena Vista Distribution</td>\n",
       "      <td>Bill Peet</td>\n",
       "      <td>NaN</td>\n",
       "      <td>[Roy M. Brewer, Jr., Donald Halliday]</td>\n",
       "      <td>NaN</td>\n",
       "      <td>NaN</td>\n",
       "    </tr>\n",
       "  </tbody>\n",
       "</table>\n",
       "<p>1 rows × 23 columns</p>\n",
       "</div>"
      ],
      "text/plain": [
       "                             title       Production company        Country  \\\n",
       "50  One Hundred and One Dalmatians  Walt Disney Productions  United States   \n",
       "\n",
       "   Language  Running time (int) Release date (datetime)  budget in dollars  \\\n",
       "50  English                79.0              1961-01-25          3600000.0   \n",
       "\n",
       "    box in dollars imbd metascore  ...  \\\n",
       "50     303000000.0  7.3        83  ...   \n",
       "\n",
       "                                             Based on  Produced by  \\\n",
       "50  [The Hundred and One Dalmatians, by, Dodie Smith]  Walt Disney   \n",
       "\n",
       "                                             Starring      Music by  \\\n",
       "50  [Rod Taylor, Cate Bauer, Betty Lou Gerson, Ben...  George Bruns   \n",
       "\n",
       "              Distributed by   Story by Cinematography  \\\n",
       "50  Buena Vista Distribution  Bill Peet            NaN   \n",
       "\n",
       "                                Edited by Screenplay by Production companies  \n",
       "50  [Roy M. Brewer, Jr., Donald Halliday]           NaN                  NaN  \n",
       "\n",
       "[1 rows x 23 columns]"
      ]
     },
     "execution_count": 107,
     "metadata": {},
     "output_type": "execute_result"
    }
   ],
   "source": [
    "df[df.title=='One Hundred and One Dalmatians']"
   ]
  },
  {
   "cell_type": "code",
   "execution_count": 108,
   "metadata": {},
   "outputs": [],
   "source": [
    "df.to_csv('disney_movies.csv')"
   ]
  }
 ],
 "metadata": {
  "kernelspec": {
   "display_name": "Python 3",
   "language": "python",
   "name": "python3"
  },
  "language_info": {
   "codemirror_mode": {
    "name": "ipython",
    "version": 3
   },
   "file_extension": ".py",
   "mimetype": "text/x-python",
   "name": "python",
   "nbconvert_exporter": "python",
   "pygments_lexer": "ipython3",
   "version": "3.8.5"
  }
 },
 "nbformat": 4,
 "nbformat_minor": 4
}
