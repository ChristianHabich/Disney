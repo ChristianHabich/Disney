{
 "cells": [
  {
   "cell_type": "markdown",
   "metadata": {},
   "source": [
    "# Web Scraping Disney movies"
   ]
  },
  {
   "cell_type": "markdown",
   "metadata": {},
   "source": [
    "Goal: Scrape and clean data from Wikipedia using Beautiful Soup & Regex, add movie information via OMBD API and save as DataFrame, ready for analysis"
   ]
  },
  {
   "cell_type": "code",
   "execution_count": 1,
   "metadata": {},
   "outputs": [],
   "source": [
    "import requests\n",
    "from bs4 import BeautifulSoup\n",
    "import re\n",
    "import json\n",
    "import os\n",
    "import pandas as pd"
   ]
  },
  {
   "cell_type": "markdown",
   "metadata": {},
   "source": [
    "### 1. Get wiki infobox for Toy Story 3"
   ]
  },
  {
   "cell_type": "code",
   "execution_count": 2,
   "metadata": {},
   "outputs": [],
   "source": [
    "toystory = requests.get('https://en.wikipedia.org/wiki/Toy_Story_3')"
   ]
  },
  {
   "cell_type": "code",
   "execution_count": 3,
   "metadata": {},
   "outputs": [],
   "source": [
    "soup = BeautifulSoup(toystory.content)"
   ]
  },
  {
   "cell_type": "code",
   "execution_count": 4,
   "metadata": {},
   "outputs": [],
   "source": [
    "info_box = soup.find(class_='infobox vevent')\n",
    "info_rows = info_box.find_all('tr')"
   ]
  },
  {
   "cell_type": "code",
   "execution_count": 5,
   "metadata": {},
   "outputs": [
    {
     "data": {
      "text/plain": [
       "{'title': 'Toy Story 3',\n",
       " 'Directed by': 'Lee Unkrich',\n",
       " 'Screenplay by': 'Michael Arndt',\n",
       " 'Story by': ['John Lasseter', 'Andrew Stanton', 'Lee Unkrich'],\n",
       " 'Produced by': 'Darla K. Anderson',\n",
       " 'Starring': ['Tom Hanks',\n",
       "  'Tim Allen',\n",
       "  'Joan Cusack',\n",
       "  'Don Rickles',\n",
       "  'Wallace Shawn',\n",
       "  'John Ratzenberger',\n",
       "  'Estelle Harris',\n",
       "  'Ned Beatty',\n",
       "  'Michael Keaton',\n",
       "  'Jodi Benson',\n",
       "  'John Morris'],\n",
       " 'Cinematography': ['Jeremy Lasky', 'Kim White'],\n",
       " 'Edited by': 'Ken Schretzmann',\n",
       " 'Music by': 'Randy Newman',\n",
       " 'Production companies': ['Walt Disney Pictures', 'Pixar Animation Studios'],\n",
       " 'Distributed by': 'Walt Disney Studios Motion Pictures',\n",
       " 'Release date': ['June\\xa012,\\xa02010 ( 2010-06-12 ) ( Taormina Film Fest )',\n",
       "  'June\\xa018,\\xa02010 ( 2010-06-18 ) (United States)'],\n",
       " 'Running time': '103 minutes [1]',\n",
       " 'Country': 'United States',\n",
       " 'Language': 'English',\n",
       " 'Budget': '$200\\xa0million [1]',\n",
       " 'Box office': '$1.067\\xa0billion [1]'}"
      ]
     },
     "execution_count": 5,
     "metadata": {},
     "output_type": "execute_result"
    }
   ],
   "source": [
    "movie_info = {}\n",
    "\n",
    "def multi_data(r):\n",
    "    if r.find('li'):\n",
    "        return [li.get_text(' ', strip=True) for li in r.find_all('li')]\n",
    "    else:\n",
    "        return r.get_text(' ', strip=True)\n",
    "\n",
    "for index,row in enumerate(info_rows):\n",
    "    if index==0:\n",
    "        movie_info['title']=row.find('th').get_text()\n",
    "    else:\n",
    "        header = row.find('th')\n",
    "        if header:\n",
    "            movie_info[row.find('th').get_text(' ', strip=True)]=multi_data(row.find('td'))\n",
    "             \n",
    "movie_info"
   ]
  },
  {
   "cell_type": "markdown",
   "metadata": {},
   "source": [
    "### 2. List of dictionnaries with infoboxes of all Disney movies"
   ]
  },
  {
   "cell_type": "code",
   "execution_count": 6,
   "metadata": {},
   "outputs": [],
   "source": [
    "disneymovies = requests.get('https://en.wikipedia.org/wiki/List_of_Walt_Disney_Pictures_films')"
   ]
  },
  {
   "cell_type": "code",
   "execution_count": 7,
   "metadata": {},
   "outputs": [],
   "source": [
    "soup = BeautifulSoup(disneymovies.content)"
   ]
  },
  {
   "cell_type": "code",
   "execution_count": 8,
   "metadata": {},
   "outputs": [
    {
     "data": {
      "text/plain": [
       "['/wiki/Academy_Award_Review_of_Walt_Disney_Cartoons',\n",
       " '/wiki/Snow_White_and_the_Seven_Dwarfs_(1937_film)',\n",
       " '/wiki/Pinocchio_(1940_film)',\n",
       " '/wiki/Fantasia_(1940_film)',\n",
       " '/wiki/The_Reluctant_Dragon_(1941_film)',\n",
       " '/wiki/Dumbo',\n",
       " '/wiki/Bambi',\n",
       " '/wiki/Saludos_Amigos',\n",
       " '/wiki/Victory_Through_Air_Power_(film)',\n",
       " '/wiki/The_Three_Caballeros',\n",
       " '/wiki/Make_Mine_Music',\n",
       " '/wiki/Song_of_the_South',\n",
       " '/wiki/Fun_and_Fancy_Free',\n",
       " '/wiki/Melody_Time',\n",
       " '/wiki/So_Dear_to_My_Heart',\n",
       " '/wiki/The_Adventures_of_Ichabod_and_Mr._Toad',\n",
       " '/wiki/Cinderella_(1950_film)',\n",
       " '/wiki/Treasure_Island_(1950_film)',\n",
       " '/wiki/Alice_in_Wonderland_(1951_film)',\n",
       " '/wiki/The_Story_of_Robin_Hood_(film)',\n",
       " '/wiki/Peter_Pan_(1953_film)',\n",
       " '/wiki/The_Sword_and_the_Rose',\n",
       " '/wiki/The_Living_Desert',\n",
       " '/wiki/Rob_Roy:_The_Highland_Rogue',\n",
       " '/wiki/The_Vanishing_Prairie',\n",
       " '/wiki/20,000_Leagues_Under_the_Sea_(1954_film)',\n",
       " '/wiki/Davy_Crockett:_King_of_the_Wild_Frontier_(film)',\n",
       " '/wiki/Lady_and_the_Tramp',\n",
       " '/wiki/The_African_Lion',\n",
       " '/wiki/The_Littlest_Outlaw',\n",
       " '/wiki/The_Great_Locomotive_Chase',\n",
       " '/wiki/Davy_Crockett_and_the_River_Pirates',\n",
       " '/wiki/Secrets_of_Life',\n",
       " '/wiki/Westward_Ho_the_Wagons!',\n",
       " '/wiki/Johnny_Tremain_(film)',\n",
       " '/wiki/Perri_(film)',\n",
       " '/wiki/Old_Yeller_(film)',\n",
       " '/wiki/The_Light_in_the_Forest_(film)',\n",
       " '/wiki/White_Wilderness_(film)',\n",
       " '/wiki/Tonka_(film)',\n",
       " '/wiki/Sleeping_Beauty_(1959_film)',\n",
       " '/wiki/The_Shaggy_Dog_(1959_film)',\n",
       " '/wiki/Darby_O%27Gill_and_the_Little_People',\n",
       " '/wiki/Zorro_(1957_TV_series)#Theatrical',\n",
       " '/wiki/Third_Man_on_the_Mountain',\n",
       " '/wiki/Toby_Tyler_or_10_Weeks_with_a_Circus_(film)',\n",
       " '/wiki/Kidnapped_(1960_film)',\n",
       " '/wiki/Pollyanna_(1960_film)',\n",
       " '/wiki/Zorro_(1957_TV_series)#Theatrical',\n",
       " '/wiki/Jungle_Cat_(film)',\n",
       " '/wiki/Ten_Who_Dared',\n",
       " '/wiki/Swiss_Family_Robinson_(1960_film)',\n",
       " '/wiki/One_Hundred_and_One_Dalmatians',\n",
       " '/wiki/The_Absent-Minded_Professor',\n",
       " '/wiki/The_Parent_Trap_(1961_film)',\n",
       " '/wiki/Nikki:_Wild_Dog_of_the_North',\n",
       " '/wiki/Greyfriars_Bobby_(film)',\n",
       " '/wiki/Babes_in_Toyland_(1961_film)',\n",
       " '/wiki/Moon_Pilot',\n",
       " '/wiki/Bon_Voyage!_(1962_film)',\n",
       " '/wiki/Big_Red_(film)',\n",
       " '/wiki/Almost_Angels',\n",
       " '/wiki/The_Legend_of_Lobo',\n",
       " '/wiki/In_Search_of_the_Castaways_(film)',\n",
       " '/wiki/Son_of_Flubber',\n",
       " '/wiki/Miracle_of_the_White_Stallions',\n",
       " '/wiki/Savage_Sam_(film)',\n",
       " '/wiki/Summer_Magic_(film)',\n",
       " '/wiki/The_Incredible_Journey_(film)',\n",
       " '/wiki/The_Sword_in_the_Stone_(1963_film)',\n",
       " '/wiki/A_Tiger_Walks',\n",
       " '/wiki/The_Missadventures_of_Merlin_Jones',\n",
       " '/wiki/The_Three_Lives_of_Thomasina',\n",
       " '/wiki/The_Moon-Spinners',\n",
       " '/wiki/Mary_Poppins_(film)',\n",
       " '/wiki/Emil_and_the_Detectives_(1964_film)',\n",
       " '/wiki/Those_Calloways',\n",
       " '/wiki/The_Monkey%27s_Uncle',\n",
       " '/wiki/That_Darn_Cat!',\n",
       " '/wiki/The_Ugly_Dachshund',\n",
       " '/wiki/Lt._Robin_Crusoe,_U.S.N.',\n",
       " '/wiki/The_Fighting_Prince_of_Donegal',\n",
       " '/wiki/Follow_Me,_Boys!',\n",
       " '/wiki/Monkeys,_Go_Home!',\n",
       " '/wiki/The_Adventures_of_Bullwhip_Griffin',\n",
       " '/wiki/The_Gnome-Mobile',\n",
       " '/wiki/The_Jungle_Book_(1967_film)',\n",
       " '/wiki/Charlie,_the_Lonesome_Cougar',\n",
       " '/wiki/The_Happiest_Millionaire',\n",
       " '/wiki/Blackbeard%27s_Ghost',\n",
       " '/wiki/The_One_and_Only,_Genuine,_Original_Family_Band',\n",
       " '/wiki/Never_a_Dull_Moment_(1968_film)',\n",
       " '/wiki/The_Horse_in_the_Gray_Flannel_Suit',\n",
       " '/wiki/The_Love_Bug',\n",
       " '/wiki/Smith!',\n",
       " '/wiki/Rascal_(film)',\n",
       " '/wiki/The_Computer_Wore_Tennis_Shoes',\n",
       " '/wiki/King_of_the_Grizzlies',\n",
       " '/wiki/The_Boatniks',\n",
       " '/wiki/The_Wild_Country',\n",
       " '/wiki/The_Aristocats',\n",
       " '/wiki/The_Barefoot_Executive',\n",
       " '/wiki/Scandalous_John',\n",
       " '/wiki/The_Million_Dollar_Duck',\n",
       " '/wiki/Bedknobs_and_Broomsticks',\n",
       " '/wiki/The_Biscuit_Eater_(1972_film)',\n",
       " '/wiki/Now_You_See_Him,_Now_You_Don%27t',\n",
       " '/wiki/Napoleon_and_Samantha',\n",
       " '/wiki/Run,_Cougar,_Run',\n",
       " '/wiki/Snowball_Express',\n",
       " '/wiki/The_World%27s_Greatest_Athlete',\n",
       " '/wiki/Charley_and_the_Angel',\n",
       " '/wiki/One_Little_Indian_(film)',\n",
       " '/wiki/Robin_Hood_(1973_film)',\n",
       " '/wiki/Superdad',\n",
       " '/wiki/Herbie_Rides_Again',\n",
       " '/wiki/The_Bears_and_I',\n",
       " '/wiki/The_Castaway_Cowboy',\n",
       " '/wiki/The_Island_at_the_Top_of_the_World',\n",
       " '/wiki/The_Strongest_Man_in_the_World',\n",
       " '/wiki/Escape_to_Witch_Mountain_(1975_film)',\n",
       " '/wiki/The_Apple_Dumpling_Gang_(film)',\n",
       " '/wiki/One_of_Our_Dinosaurs_Is_Missing',\n",
       " '/wiki/The_Best_of_Walt_Disney%27s_True-Life_Adventures',\n",
       " '/wiki/True-Life_Adventures',\n",
       " '/wiki/Ride_a_Wild_Pony',\n",
       " '/wiki/No_Deposit,_No_Return',\n",
       " '/wiki/Treasure_of_Matecumbe',\n",
       " '/wiki/Gus_(1976_film)',\n",
       " '/wiki/The_Shaggy_D.A.',\n",
       " '/wiki/Freaky_Friday_(1976_film)',\n",
       " '/wiki/Escape_from_the_Dark',\n",
       " '/wiki/The_Many_Adventures_of_Winnie_the_Pooh',\n",
       " '/wiki/A_Tale_of_Two_Critters',\n",
       " '/wiki/The_Rescuers',\n",
       " '/wiki/Herbie_Goes_to_Monte_Carlo',\n",
       " '/wiki/Pete%27s_Dragon_(1977_film)',\n",
       " '/wiki/Candleshoe',\n",
       " '/wiki/Return_from_Witch_Mountain',\n",
       " '/wiki/The_Cat_from_Outer_Space',\n",
       " '/wiki/Hot_Lead_and_Cold_Feet',\n",
       " '/wiki/The_North_Avenue_Irregulars',\n",
       " '/wiki/The_Apple_Dumpling_Gang_Rides_Again',\n",
       " '/wiki/Unidentified_Flying_Oddball',\n",
       " '/wiki/The_Black_Hole',\n",
       " '/wiki/The_Omega_Connection',\n",
       " '/wiki/Midnight_Madness_(1980_film)',\n",
       " '/wiki/The_Watcher_in_the_Woods_(1980_film)',\n",
       " '/wiki/Herbie_Goes_Bananas',\n",
       " '/wiki/The_Last_Flight_of_Noah%27s_Ark',\n",
       " '/wiki/Popeye_(film)',\n",
       " '/wiki/The_Devil_and_Max_Devlin',\n",
       " '/wiki/Amy_(1981_film)',\n",
       " '/wiki/Dragonslayer_(1981_film)',\n",
       " '/wiki/The_Fox_and_the_Hound',\n",
       " '/wiki/Condorman',\n",
       " '/wiki/Night_Crossing',\n",
       " '/wiki/Tron',\n",
       " '/wiki/Tex_(film)',\n",
       " '/wiki/Trenchcoat_(film)',\n",
       " '/wiki/Something_Wicked_This_Way_Comes_(film)',\n",
       " '/wiki/Never_Cry_Wolf_(film)',\n",
       " '/wiki/Return_to_Oz',\n",
       " '/wiki/The_Black_Cauldron_(film)',\n",
       " '/wiki/The_Journey_of_Natty_Gann',\n",
       " '/wiki/One_Magic_Christmas',\n",
       " '/wiki/The_Great_Mouse_Detective',\n",
       " '/wiki/Flight_of_the_Navigator',\n",
       " '/wiki/Benji_the_Hunted',\n",
       " '/wiki/The_Man_from_Snowy_River_II',\n",
       " '/wiki/Oliver_%26_Company',\n",
       " '/wiki/Honey,_I_Shrunk_the_Kids',\n",
       " '/wiki/Cheetah_(1989_film)',\n",
       " '/wiki/The_Little_Mermaid_(1989_film)',\n",
       " '/wiki/DuckTales_the_Movie:_Treasure_of_the_Lost_Lamp',\n",
       " '/wiki/The_Rescuers_Down_Under',\n",
       " '/wiki/White_Fang_(1991_film)',\n",
       " '/wiki/Shipwrecked_(1990_film)',\n",
       " '/wiki/Wild_Hearts_Can%27t_Be_Broken',\n",
       " '/wiki/The_Rocketeer_(film)',\n",
       " '/wiki/Beauty_and_the_Beast_(1991_film)',\n",
       " '/wiki/Newsies',\n",
       " '/wiki/Honey,_I_Blew_Up_the_Kid',\n",
       " '/wiki/The_Mighty_Ducks_(film)',\n",
       " '/wiki/Aladdin_(1992_Disney_film)',\n",
       " '/wiki/The_Muppet_Christmas_Carol',\n",
       " '/wiki/Homeward_Bound:_The_Incredible_Journey',\n",
       " '/wiki/A_Far_Off_Place',\n",
       " '/wiki/The_Adventures_of_Huck_Finn_(1993_film)',\n",
       " '/wiki/Hocus_Pocus_(1993_film)',\n",
       " '/wiki/Cool_Runnings',\n",
       " '/wiki/The_Three_Musketeers_(1993_film)',\n",
       " '/wiki/Iron_Will',\n",
       " '/wiki/Blank_Check_(film)',\n",
       " '/wiki/D2:_The_Mighty_Ducks',\n",
       " '/wiki/White_Fang_2:_Myth_of_the_White_Wolf',\n",
       " '/wiki/The_Lion_King',\n",
       " '/wiki/Angels_in_the_Outfield_(1994_film)',\n",
       " '/wiki/Squanto:_A_Warrior%27s_Tale',\n",
       " '/wiki/The_Santa_Clause',\n",
       " '/wiki/The_Jungle_Book_(1994_film)',\n",
       " '/wiki/Heavyweights',\n",
       " '/wiki/Man_of_the_House_(1995_film)',\n",
       " '/wiki/Tall_Tale_(film)',\n",
       " '/wiki/A_Goofy_Movie',\n",
       " '/wiki/Pocahontas_(1995_film)',\n",
       " '/wiki/Operation_Dumbo_Drop',\n",
       " '/wiki/A_Kid_in_King_Arthur%27s_Court',\n",
       " '/wiki/The_Big_Green',\n",
       " '/wiki/Frank_and_Ollie',\n",
       " '/wiki/Toy_Story',\n",
       " '/wiki/Tom_and_Huck',\n",
       " '/wiki/Muppet_Treasure_Island',\n",
       " '/wiki/Homeward_Bound_II:_Lost_in_San_Francisco',\n",
       " '/wiki/James_and_the_Giant_Peach_(film)',\n",
       " '/wiki/The_Hunchback_of_Notre_Dame_(1996_film)',\n",
       " '/wiki/First_Kid',\n",
       " '/wiki/D3:_The_Mighty_Ducks',\n",
       " '/wiki/101_Dalmatians_(1996_film)',\n",
       " '/wiki/That_Darn_Cat_(1997_film)',\n",
       " '/wiki/Jungle_2_Jungle',\n",
       " '/wiki/Hercules_(1997_film)',\n",
       " '/wiki/George_of_the_Jungle_(film)',\n",
       " '/wiki/Air_Bud',\n",
       " '/wiki/RocketMan',\n",
       " '/wiki/Flubber_(film)',\n",
       " '/wiki/Mr._Magoo_(film)',\n",
       " '/wiki/Meet_the_Deedles',\n",
       " '/wiki/Mulan_(1998_film)',\n",
       " '/wiki/The_Parent_Trap_(1998_film)',\n",
       " '/wiki/I%27ll_Be_Home_for_Christmas_(1998_film)',\n",
       " '/wiki/A_Bug%27s_Life',\n",
       " '/wiki/Mighty_Joe_Young_(1998_film)',\n",
       " '/wiki/My_Favorite_Martian_(film)',\n",
       " '/wiki/Doug%27s_1st_Movie',\n",
       " '/wiki/Endurance_(film)',\n",
       " '/wiki/Tarzan_(1999_film)',\n",
       " '/wiki/Inspector_Gadget_(film)',\n",
       " '/wiki/The_Straight_Story',\n",
       " '/wiki/Toy_Story_2',\n",
       " '/wiki/Fantasia_2000',\n",
       " '/wiki/The_Tigger_Movie',\n",
       " '/wiki/Whispers:_An_Elephant%27s_Tale',\n",
       " '/wiki/Dinosaur_(film)',\n",
       " '/wiki/Disney%27s_The_Kid',\n",
       " '/wiki/Remember_the_Titans',\n",
       " '/wiki/102_Dalmatians',\n",
       " '/wiki/The_Emperor%27s_New_Groove',\n",
       " '/wiki/Recess:_School%27s_Out',\n",
       " '/wiki/Atlantis:_The_Lost_Empire',\n",
       " '/wiki/The_Princess_Diaries_(film)',\n",
       " '/wiki/Max_Keeble%27s_Big_Move',\n",
       " '/wiki/Monsters,_Inc.',\n",
       " '/wiki/Snow_Dogs',\n",
       " '/wiki/Return_to_Never_Land',\n",
       " '/wiki/The_Rookie_(2002_film)',\n",
       " '/wiki/Lilo_%26_Stitch',\n",
       " '/wiki/The_Country_Bears',\n",
       " '/wiki/Spirited_Away',\n",
       " '/wiki/Tuck_Everlasting_(2002_film)',\n",
       " '/wiki/The_Santa_Clause_2',\n",
       " '/wiki/Treasure_Planet',\n",
       " '/wiki/The_Jungle_Book_2',\n",
       " '/wiki/Piglet%27s_Big_Movie',\n",
       " '/wiki/Ghosts_of_the_Abyss',\n",
       " '/wiki/Holes_(film)',\n",
       " '/wiki/The_Lizzie_McGuire_Movie',\n",
       " '/wiki/Finding_Nemo',\n",
       " '/wiki/Pirates_of_the_Caribbean:_The_Curse_of_the_Black_Pearl',\n",
       " '/wiki/Freaky_Friday_(2003_film)',\n",
       " '/wiki/Brother_Bear',\n",
       " '/wiki/The_Haunted_Mansion_(film)',\n",
       " '/wiki/The_Young_Black_Stallion',\n",
       " '/wiki/Teacher%27s_Pet_(2004_film)',\n",
       " '/wiki/Miracle_(2004_film)',\n",
       " '/wiki/Confessions_of_a_Teenage_Drama_Queen',\n",
       " '/wiki/Home_on_the_Range_(2004_film)',\n",
       " '/wiki/Sacred_Planet',\n",
       " '/wiki/Around_the_World_in_80_Days_(2004_film)',\n",
       " '/wiki/America%27s_Heart_and_Soul',\n",
       " '/wiki/The_Princess_Diaries_2:_Royal_Engagement',\n",
       " '/wiki/The_Incredibles',\n",
       " '/wiki/National_Treasure_(film)',\n",
       " '/wiki/Aliens_of_the_Deep',\n",
       " '/wiki/Pooh%27s_Heffalump_Movie',\n",
       " '/wiki/The_Pacifier',\n",
       " '/wiki/Ice_Princess',\n",
       " '/wiki/Herbie:_Fully_Loaded',\n",
       " '/wiki/Howl%27s_Moving_Castle_(film)',\n",
       " '/wiki/Sky_High_(2005_film)',\n",
       " '/wiki/Valiant_(film)',\n",
       " '/wiki/The_Greatest_Game_Ever_Played',\n",
       " '/wiki/Chicken_Little_(2005_film)',\n",
       " '/wiki/The_Chronicles_of_Narnia:_The_Lion,_the_Witch_and_the_Wardrobe',\n",
       " '/wiki/Glory_Road_(film)',\n",
       " '/wiki/Roving_Mars',\n",
       " '/wiki/Eight_Below',\n",
       " '/wiki/The_Shaggy_Dog_(2006_film)',\n",
       " '/wiki/The_Wild',\n",
       " '/wiki/Cars_(film)',\n",
       " '/wiki/Pirates_of_the_Caribbean:_Dead_Man%27s_Chest',\n",
       " '/wiki/Invincible_(2006_film)',\n",
       " '/wiki/The_Nightmare_Before_Christmas',\n",
       " '/wiki/The_Santa_Clause_3:_The_Escape_Clause',\n",
       " '/wiki/Bridge_to_Terabithia_(2007_film)',\n",
       " '/wiki/Meet_the_Robinsons',\n",
       " '/wiki/Pirates_of_the_Caribbean:_At_World%27s_End',\n",
       " '/wiki/Ratatouille_(film)',\n",
       " '/wiki/Underdog_(2007_film)',\n",
       " '/wiki/The_Pixar_Story',\n",
       " '/wiki/The_Game_Plan_(film)',\n",
       " '/wiki/Enchanted_(film)',\n",
       " '/wiki/National_Treasure:_Book_of_Secrets',\n",
       " '/wiki/Hannah_Montana_and_Miley_Cyrus:_Best_of_Both_Worlds_Concert',\n",
       " '/wiki/College_Road_Trip',\n",
       " '/wiki/The_Chronicles_of_Narnia:_Prince_Caspian',\n",
       " '/wiki/WALL-E',\n",
       " '/wiki/Beverly_Hills_Chihuahua',\n",
       " '/wiki/Morning_Light_(film)',\n",
       " '/wiki/High_School_Musical_3:_Senior_Year',\n",
       " '/wiki/Bolt_(2008_film)',\n",
       " '/wiki/Bedtime_Stories_(film)',\n",
       " '/wiki/The_Secret_of_the_Magic_Gourd_(2007_film)',\n",
       " '/wiki/Jonas_Brothers:_The_3D_Concert_Experience',\n",
       " '/wiki/Race_to_Witch_Mountain',\n",
       " '/wiki/Hannah_Montana:_The_Movie',\n",
       " '/wiki/Earth_(2007_film)',\n",
       " '/wiki/Up_(2009_film)',\n",
       " '/wiki/Hexe_Lilli:_Der_Drache_und_das_magische_Buch',\n",
       " '/wiki/G-Force_(film)',\n",
       " '/wiki/Ponyo',\n",
       " '/wiki/Walt_%26_El_Grupo',\n",
       " '/wiki/The_Book_of_Masters',\n",
       " '/wiki/A_Christmas_Carol_(2009_film)',\n",
       " '/wiki/Old_Dogs_(film)',\n",
       " '/wiki/The_Princess_and_the_Frog',\n",
       " '/wiki/Alice_in_Wonderland_(2010_film)',\n",
       " '/wiki/Oceans_(film)',\n",
       " '/wiki/Prince_of_Persia:_The_Sands_of_Time_(film)',\n",
       " '/wiki/Toy_Story_3',\n",
       " '/wiki/The_Sorcerer%27s_Apprentice_(2010_film)',\n",
       " '/wiki/Tales_from_Earthsea_(film)',\n",
       " '/wiki/The_Crimson_Wing:_Mystery_of_the_Flamingos',\n",
       " '/wiki/Secretariat_(film)',\n",
       " '/wiki/Do_Dooni_Chaar',\n",
       " '/wiki/Tangled',\n",
       " '/wiki/The_Boys:_The_Sherman_Brothers%27_Story',\n",
       " '/wiki/Tron:_Legacy',\n",
       " '/wiki/Anaganaga_O_Dheerudu',\n",
       " '/wiki/Lilly_the_Witch:_The_Journey_to_Mandolan',\n",
       " '/wiki/Mars_Needs_Moms',\n",
       " '/wiki/Zokkomon',\n",
       " '/wiki/African_Cats',\n",
       " '/wiki/Prom_(film)',\n",
       " '/wiki/Pirates_of_the_Caribbean:_On_Stranger_Tides',\n",
       " '/wiki/Cars_2',\n",
       " '/wiki/Winnie_the_Pooh_(2011_film)',\n",
       " '/wiki/The_Muppets_(film)',\n",
       " '/wiki/Arrietty',\n",
       " '/wiki/John_Carter_(film)',\n",
       " '/wiki/Chimpanzee_(film)',\n",
       " '/wiki/Arjun:_The_Warrior_Prince',\n",
       " '/wiki/Brave_(2012_film)',\n",
       " '/wiki/The_Odd_Life_of_Timothy_Green',\n",
       " '/wiki/Frankenweenie_(2012_film)',\n",
       " '/wiki/Wreck-It_Ralph',\n",
       " '/wiki/Oz_the_Great_and_Powerful',\n",
       " '/wiki/Wings_of_Life',\n",
       " '/wiki/Monsters_University',\n",
       " '/wiki/The_Lone_Ranger_(2013_film)',\n",
       " '/wiki/Planes_(film)',\n",
       " '/wiki/Frozen_(2013_film)',\n",
       " '/wiki/Saving_Mr._Banks',\n",
       " '/wiki/Muppets_Most_Wanted',\n",
       " '/wiki/Bears_(film)',\n",
       " '/wiki/Million_Dollar_Arm',\n",
       " '/wiki/Maleficent_(film)',\n",
       " '/wiki/Planes:_Fire_%26_Rescue',\n",
       " '/wiki/Khoobsurat_(2014_film)',\n",
       " '/wiki/Alexander_and_the_Terrible,_Horrible,_No_Good,_Very_Bad_Day_(film)',\n",
       " '/wiki/Big_Hero_6_(film)',\n",
       " '/wiki/Into_the_Woods_(film)',\n",
       " '/wiki/McFarland,_USA',\n",
       " '/wiki/Cinderella_(2015_Disney_film)',\n",
       " '/wiki/Monkey_Kingdom',\n",
       " '/wiki/Tomorrowland_(film)',\n",
       " '/wiki/Inside_Out_(2015_film)',\n",
       " '/wiki/ABCD_2',\n",
       " '/wiki/The_Good_Dinosaur',\n",
       " '/wiki/The_Finest_Hours_(2016_film)',\n",
       " '/wiki/Zootopia',\n",
       " '/wiki/The_Jungle_Book_(2016_film)',\n",
       " '/wiki/Tini:_The_Movie',\n",
       " '/wiki/Alice_Through_the_Looking_Glass_(2016_film)',\n",
       " '/wiki/Finding_Dory',\n",
       " '/wiki/The_BFG_(2016_film)',\n",
       " '/wiki/Pete%27s_Dragon_(2016_film)',\n",
       " '/wiki/Queen_of_Katwe',\n",
       " '/wiki/Moana_(2016_film)',\n",
       " '/wiki/Dangal_(film)',\n",
       " '/wiki/March_of_the_Penguins#Sequel',\n",
       " '/wiki/Beauty_and_the_Beast_(2017_film)',\n",
       " '/wiki/Born_in_China',\n",
       " '/wiki/Pirates_of_the_Caribbean:_Dead_Men_Tell_No_Tales',\n",
       " '/wiki/Cars_3',\n",
       " '/wiki/Ghost_of_the_Mountains',\n",
       " '/wiki/Jagga_Jasoos',\n",
       " '/wiki/Coco_(2017_film)',\n",
       " '/wiki/A_Wrinkle_in_Time_(2018_film)',\n",
       " '/wiki/Incredibles_2',\n",
       " '/wiki/Christopher_Robin_(film)',\n",
       " '/wiki/The_Nutcracker_and_the_Four_Realms',\n",
       " '/wiki/Ralph_Breaks_the_Internet',\n",
       " '/wiki/Mary_Poppins_Returns',\n",
       " '/wiki/Dumbo_(2019_film)',\n",
       " '/wiki/Penguins_(film)',\n",
       " '/wiki/Aladdin_(2019_film)',\n",
       " '/wiki/Toy_Story_4',\n",
       " '/wiki/The_Lion_King_(2019_film)',\n",
       " '/wiki/Maleficent:_Mistress_of_Evil',\n",
       " '/wiki/Lady_and_the_Tramp_(2019_film)',\n",
       " '/wiki/Noelle_(2019_film)',\n",
       " '/wiki/Frozen_II',\n",
       " '/wiki/Togo_(film)',\n",
       " '/wiki/Timmy_Failure:_Mistakes_Were_Made',\n",
       " '/wiki/Onward_(film)',\n",
       " '/wiki/Stargirl_(film)',\n",
       " '/wiki/Dolphin_Reef_(film)',\n",
       " '/wiki/Elephant_(2020_film)',\n",
       " '/wiki/Artemis_Fowl_(film)',\n",
       " '/wiki/Hamilton_(2020_film)',\n",
       " '/wiki/Black_Is_King',\n",
       " '/wiki/Magic_Camp_(film)',\n",
       " '/wiki/The_One_and_Only_Ivan_(film)',\n",
       " '/wiki/Mulan_(2020_film)',\n",
       " '/wiki/Godmothered',\n",
       " '/wiki/Safety_(2020_film)',\n",
       " '/wiki/Soul_(2020_film)',\n",
       " '/wiki/Flora_%26_Ulysses_(film)',\n",
       " '/wiki/Raya_and_the_Last_Dragon',\n",
       " '/wiki/Cruella_(film)',\n",
       " '/wiki/Luca_(2021_film)',\n",
       " '/wiki/Jungle_Cruise_(film)',\n",
       " '/wiki/True-Life_Adventures#Films',\n",
       " '/wiki/Encanto_(film)',\n",
       " '/wiki/Turning_Red',\n",
       " '/wiki/Disenchanted_(film)',\n",
       " '/wiki/Peter_Pan_%26_Wendy',\n",
       " '/wiki/Hocus_Pocus_(1993_film)#Legacy',\n",
       " '/wiki/The_Little_Mermaid_(upcoming_film)',\n",
       " '/wiki/Shrunk_(film)',\n",
       " '/wiki/Chip_%27n_Dale:_Rescue_Rangers_(film)',\n",
       " '/wiki/Pinocchio_(upcoming_Disney_film)',\n",
       " '/wiki/Hollywood_Stargirl',\n",
       " '/wiki/Tim_Federle#Fiction']"
      ]
     },
     "execution_count": 8,
     "metadata": {},
     "output_type": "execute_result"
    }
   ],
   "source": [
    "wiki = []\n",
    "\n",
    "for tr in soup.find_all('tbody'):\n",
    "    for i in tr.find_all('tr'):\n",
    "        for a in i.find_all('i'):\n",
    "            for href in a.find_all('a'):\n",
    "                wiki.append(href.get('href'))\n",
    "                \n",
    "wiki = wiki[1:]\n",
    "wiki"
   ]
  },
  {
   "cell_type": "code",
   "execution_count": 9,
   "metadata": {},
   "outputs": [
    {
     "name": "stdout",
     "output_type": "stream",
     "text": [
      "/wiki/Zorro_(1957_TV_series)#Theatrical\n",
      "'NoneType' object has no attribute 'find'\n",
      "/wiki/Zorro_(1957_TV_series)#Theatrical\n",
      "'NoneType' object has no attribute 'find'\n",
      "/wiki/True-Life_Adventures\n",
      "'NoneType' object has no attribute 'find_all'\n",
      "/wiki/The_Omega_Connection\n",
      "'NoneType' object has no attribute 'find'\n",
      "/wiki/True-Life_Adventures#Films\n",
      "'NoneType' object has no attribute 'find_all'\n",
      "/wiki/Tim_Federle#Fiction\n",
      "'NoneType' object has no attribute 'find_all'\n"
     ]
    }
   ],
   "source": [
    "disney_movies=[]\n",
    "\n",
    "for href in wiki:\n",
    "    \n",
    "    try:\n",
    "        url = requests.get('https://en.wikipedia.org' + href)\n",
    "        soup = BeautifulSoup(url.content)\n",
    "        info_box = soup.find(class_='infobox vevent')\n",
    "        info_rows = info_box.find_all('tr')\n",
    "\n",
    "        movie_info = {}\n",
    "\n",
    "        def multi_data(r):\n",
    "            if r.find('li'):\n",
    "                return [li.get_text(' ', strip=True) for li in r.find_all('li')]\n",
    "            elif r.find('br'):\n",
    "                return [text for text in r.stripped_strings]\n",
    "            else:\n",
    "                return r.get_text(' ', strip=True)\n",
    "\n",
    "        for index,row in enumerate(info_rows):\n",
    "            if index==0:\n",
    "                movie_info['title']=row.find('th').get_text()\n",
    "            else:\n",
    "                header = row.find('th')\n",
    "                if header:\n",
    "                    movie_info[row.find('th').get_text(' ', strip=True)]=multi_data(row.find('td'))\n",
    "\n",
    "        disney_movies.append(movie_info)\n",
    "        \n",
    "    except Exception as e:\n",
    "        print(href)\n",
    "        print(e)"
   ]
  },
  {
   "cell_type": "code",
   "execution_count": 10,
   "metadata": {},
   "outputs": [
    {
     "data": {
      "text/plain": [
       "449"
      ]
     },
     "execution_count": 10,
     "metadata": {},
     "output_type": "execute_result"
    }
   ],
   "source": [
    "len(disney_movies)"
   ]
  },
  {
   "cell_type": "code",
   "execution_count": 11,
   "metadata": {},
   "outputs": [],
   "source": [
    "def save_json(title, data):\n",
    "    with open(title, 'w', encoding='utf-8') as f:\n",
    "        json.dump(data, f, ensure_ascii=False, indent=2)"
   ]
  },
  {
   "cell_type": "code",
   "execution_count": 12,
   "metadata": {},
   "outputs": [],
   "source": [
    "save_json('disney_movies.json',disney_movies)"
   ]
  },
  {
   "cell_type": "code",
   "execution_count": 13,
   "metadata": {},
   "outputs": [],
   "source": [
    "def load_json(title):\n",
    "    with open(title, encoding='utf-8') as f:\n",
    "        return json.load(f)"
   ]
  },
  {
   "cell_type": "code",
   "execution_count": 42,
   "metadata": {},
   "outputs": [],
   "source": [
    "disney_movies = load_json('disney_movies.json')"
   ]
  },
  {
   "cell_type": "markdown",
   "metadata": {},
   "source": [
    "### 3. Clean-up of data"
   ]
  },
  {
   "cell_type": "markdown",
   "metadata": {},
   "source": [
    "3.1 remove references"
   ]
  },
  {
   "cell_type": "code",
   "execution_count": 43,
   "metadata": {},
   "outputs": [
    {
     "data": {
      "text/plain": [
       "'$2.6 million [3]'"
      ]
     },
     "execution_count": 43,
     "metadata": {},
     "output_type": "execute_result"
    }
   ],
   "source": [
    "disney_movies[2]['Budget']"
   ]
  },
  {
   "cell_type": "code",
   "execution_count": 44,
   "metadata": {},
   "outputs": [
    {
     "data": {
      "text/plain": [
       "'$2.6 million'"
      ]
     },
     "execution_count": 44,
     "metadata": {},
     "output_type": "execute_result"
    }
   ],
   "source": [
    "for movie in disney_movies:\n",
    "    for k,v in movie.items():\n",
    "        if isinstance(v,str):\n",
    "                movie[k] = re.sub(r'\\s\\[\\d+\\]','',v)\n",
    "        else:\n",
    "            for index,item in enumerate(v):\n",
    "                v[index] = re.sub(r'\\s\\[\\d+\\]','',item)              \n",
    "disney_movies[2]['Budget']"
   ]
  },
  {
   "cell_type": "markdown",
   "metadata": {},
   "source": [
    "3.2. remove non-breaking space"
   ]
  },
  {
   "cell_type": "code",
   "execution_count": 45,
   "metadata": {},
   "outputs": [
    {
     "data": {
      "text/plain": [
       "'$164\\xa0million'"
      ]
     },
     "execution_count": 45,
     "metadata": {},
     "output_type": "execute_result"
    }
   ],
   "source": [
    "disney_movies[2]['Box office']"
   ]
  },
  {
   "cell_type": "code",
   "execution_count": 46,
   "metadata": {},
   "outputs": [
    {
     "data": {
      "text/plain": [
       "'$164 million'"
      ]
     },
     "execution_count": 46,
     "metadata": {},
     "output_type": "execute_result"
    }
   ],
   "source": [
    "for movie in disney_movies:\n",
    "    for k,v in movie.items():\n",
    "        if isinstance(v,str):\n",
    "                movie[k] = v.replace('\\xa0',' ')\n",
    "        else:\n",
    "            for index,item in enumerate(v):\n",
    "                v[index] = item.replace('\\xa0',' ')\n",
    "disney_movies[2]['Box office']"
   ]
  },
  {
   "cell_type": "code",
   "execution_count": 47,
   "metadata": {},
   "outputs": [],
   "source": [
    "def min_to_int(running_time):\n",
    "    if running_time == 'N/A':\n",
    "        return None\n",
    "    if isinstance(running_time, list):\n",
    "        first_entry = running_time[0]\n",
    "        return int(first_entry.split(' ')[0])\n",
    "    else:\n",
    "        return int(running_time.split(' ')[0])"
   ]
  },
  {
   "cell_type": "markdown",
   "metadata": {},
   "source": [
    "3.3 running time to int"
   ]
  },
  {
   "cell_type": "code",
   "execution_count": 48,
   "metadata": {},
   "outputs": [
    {
     "data": {
      "text/plain": [
       "'88 minutes'"
      ]
     },
     "execution_count": 48,
     "metadata": {},
     "output_type": "execute_result"
    }
   ],
   "source": [
    "disney_movies[2]['Running time']"
   ]
  },
  {
   "cell_type": "code",
   "execution_count": 49,
   "metadata": {},
   "outputs": [
    {
     "data": {
      "text/plain": [
       "88"
      ]
     },
     "execution_count": 49,
     "metadata": {},
     "output_type": "execute_result"
    }
   ],
   "source": [
    "for movie in disney_movies:\n",
    "    movie['Running time (int)'] = min_to_int(movie.get('Running time','N/A'))\n",
    "disney_movies[2]['Running time (int)']"
   ]
  },
  {
   "cell_type": "markdown",
   "metadata": {},
   "source": [
    "3.4. release date to dt"
   ]
  },
  {
   "cell_type": "code",
   "execution_count": 50,
   "metadata": {},
   "outputs": [],
   "source": [
    "def date_convert(date):\n",
    "    if isinstance(date, list):\n",
    "        date = date[0]\n",
    "    if date == 'N/A':\n",
    "        return None\n",
    "    date = date.split('(')[0].strip()\n",
    "    return date"
   ]
  },
  {
   "cell_type": "code",
   "execution_count": 51,
   "metadata": {},
   "outputs": [
    {
     "data": {
      "text/plain": [
       "['February 7, 1940 ( 1940-02-07 ) ( Center Theatre )',\n",
       " 'February 23, 1940 ( 1940-02-23 ) (United States)']"
      ]
     },
     "execution_count": 51,
     "metadata": {},
     "output_type": "execute_result"
    }
   ],
   "source": [
    "disney_movies[2]['Release date']"
   ]
  },
  {
   "cell_type": "code",
   "execution_count": 52,
   "metadata": {},
   "outputs": [
    {
     "data": {
      "text/plain": [
       "'February 7, 1940'"
      ]
     },
     "execution_count": 52,
     "metadata": {},
     "output_type": "execute_result"
    }
   ],
   "source": [
    "for movie in disney_movies:\n",
    "    movie['Release date (datetime)'] = date_convert(movie.get('Release date','N/A'))\n",
    "disney_movies[2]['Release date (datetime)']"
   ]
  },
  {
   "cell_type": "markdown",
   "metadata": {},
   "source": [
    "3.5. budget & box office to int format"
   ]
  },
  {
   "cell_type": "code",
   "execution_count": 53,
   "metadata": {},
   "outputs": [],
   "source": [
    "def dollar_budgetbox(ex):\n",
    "    if ex == 'N/A':\n",
    "        return None\n",
    "    if isinstance(ex,list):\n",
    "        ex = ex[0]\n",
    "    if bool(re.search('\\$',ex)):\n",
    "        ex = re.search('\\$(.*)',ex).group()\n",
    "        if bool(re.search('million',ex)):\n",
    "            if bool(re.search('\\d+\\.\\d+',ex)):\n",
    "                return (int(re.search('\\$.?\\d+',ex).group()[1:])*1000000\n",
    "                        + int(re.search('\\.\\d+',ex).group()[1:])\n",
    "                        *10**(6-len(re.search('\\.\\d+',ex).group()[1:])))\n",
    "            else:\n",
    "                return (int(re.search('\\$.?\\d+',ex).group()[1:])*1000000)\n",
    "        else:\n",
    "            if bool(re.search('\\d+\\.\\d+',ex)):\n",
    "                return int(re.search('\\$.?\\d+',''.join(re.split('\\.',ex))).group()[1:])\n",
    "            else:\n",
    "                return int(re.search('\\$.?\\d+',''.join(re.split('\\,',ex))).group()[1:])"
   ]
  },
  {
   "cell_type": "code",
   "execution_count": 54,
   "metadata": {},
   "outputs": [
    {
     "data": {
      "text/plain": [
       "2600000"
      ]
     },
     "execution_count": 54,
     "metadata": {},
     "output_type": "execute_result"
    }
   ],
   "source": [
    "for movie in disney_movies:\n",
    "    movie['budget in dollars'] = dollar_budgetbox(movie.get('Budget','N/A'))\n",
    "disney_movies[2]['budget in dollars']"
   ]
  },
  {
   "cell_type": "code",
   "execution_count": 55,
   "metadata": {},
   "outputs": [
    {
     "data": {
      "text/plain": [
       "164000000"
      ]
     },
     "execution_count": 55,
     "metadata": {},
     "output_type": "execute_result"
    }
   ],
   "source": [
    "for movie in disney_movies:\n",
    "    movie['box in dollars'] = dollar_budgetbox(movie.get('Box office','N/A'))\n",
    "disney_movies[2]['box in dollars']"
   ]
  },
  {
   "cell_type": "code",
   "execution_count": 56,
   "metadata": {},
   "outputs": [
    {
     "data": {
      "text/plain": [
       "{'title': 'Pinocchio',\n",
       " 'Directed by': ['Ben Sharpsteen',\n",
       "  'Hamilton Luske',\n",
       "  'Bill Roberts',\n",
       "  'Norman Ferguson',\n",
       "  'Jack Kinney',\n",
       "  'Wilfred Jackson',\n",
       "  'T. Hee'],\n",
       " 'Story by': ['Ted Sears',\n",
       "  'Otto Englander',\n",
       "  'Webb Smith',\n",
       "  'William Cottrell',\n",
       "  'Joseph Sabo',\n",
       "  'Erdman Penner',\n",
       "  'Aurelius Battaglia'],\n",
       " 'Based on': ['The Adventures of Pinocchio', 'by', 'Carlo Collodi'],\n",
       " 'Produced by': 'Walt Disney',\n",
       " 'Starring': ['Cliff Edwards',\n",
       "  'Dickie Jones',\n",
       "  'Christian Rub',\n",
       "  'Walter Catlett',\n",
       "  'Charles Judels',\n",
       "  'Evelyn Venable',\n",
       "  'Frankie Darro'],\n",
       " 'Music by': ['Leigh Harline', 'Paul J. Smith'],\n",
       " 'Production company': 'Walt Disney Productions',\n",
       " 'Distributed by': 'RKO Radio Pictures',\n",
       " 'Release date': ['February 7, 1940 ( 1940-02-07 ) ( Center Theatre )',\n",
       "  'February 23, 1940 ( 1940-02-23 ) (United States)'],\n",
       " 'Running time': '88 minutes',\n",
       " 'Country': 'United States',\n",
       " 'Language': 'English',\n",
       " 'Budget': '$2.6 million',\n",
       " 'Box office': '$164 million',\n",
       " 'Running time (int)': 88,\n",
       " 'Release date (datetime)': 'February 7, 1940',\n",
       " 'budget in dollars': 2600000,\n",
       " 'box in dollars': 164000000}"
      ]
     },
     "execution_count": 56,
     "metadata": {},
     "output_type": "execute_result"
    }
   ],
   "source": [
    "disney_movies[2]"
   ]
  },
  {
   "cell_type": "markdown",
   "metadata": {},
   "source": [
    "### 4. Adding ratings from movie API"
   ]
  },
  {
   "cell_type": "code",
   "execution_count": 57,
   "metadata": {},
   "outputs": [
    {
     "data": {
      "text/plain": [
       "{'Title': 'One Hundred and One Dalmatians',\n",
       " 'Year': '1961',\n",
       " 'Rated': 'G',\n",
       " 'Released': '25 Jan 1961',\n",
       " 'Runtime': '79 min',\n",
       " 'Genre': 'Animation, Adventure, Comedy',\n",
       " 'Director': 'Clyde Geronimi, Hamilton Luske, Wolfgang Reitherman',\n",
       " 'Writer': 'Bill Peet, Dodie Smith',\n",
       " 'Actors': \"Rod Taylor, Betty Lou Gerson, J. Pat O'Malley\",\n",
       " 'Plot': 'When a litter of Dalmatian puppies are abducted by the minions of Cruella de Vil, the parents must find them before she uses them for a diabolical fashion statement.',\n",
       " 'Language': 'English',\n",
       " 'Country': 'United States',\n",
       " 'Awards': '1 win & 1 nomination total',\n",
       " 'Poster': 'https://m.media-amazon.com/images/M/MV5BZGMyMjE4OGUtNGZmMC00YzdmLThkMWYtZWIzMmEzNjA4MzVkXkEyXkFqcGdeQXVyMTQxNzMzNDI@._V1_SX300.jpg',\n",
       " 'Ratings': [{'Source': 'Internet Movie Database', 'Value': '7.3/10'},\n",
       "  {'Source': 'Rotten Tomatoes', 'Value': '98%'},\n",
       "  {'Source': 'Metacritic', 'Value': '83/100'}],\n",
       " 'Metascore': '83',\n",
       " 'imdbRating': '7.3',\n",
       " 'imdbVotes': '159,069',\n",
       " 'imdbID': 'tt0055254',\n",
       " 'Type': 'movie',\n",
       " 'DVD': '10 Aug 2016',\n",
       " 'BoxOffice': '$144,880,014',\n",
       " 'Production': 'Walt Disney Productions',\n",
       " 'Website': 'N/A',\n",
       " 'Response': 'True'}"
      ]
     },
     "execution_count": 57,
     "metadata": {},
     "output_type": "execute_result"
    }
   ],
   "source": [
    "def get_ombd(title):\n",
    "    ombd_url = 'http://www.omdbapi.com/?'\n",
    "    full_url = ombd_url + 'apikey=' + os.environ['OMDB_KEY'] + '&t=' + title\n",
    "    return requests.get(full_url).json()\n",
    "\n",
    "get_ombd('One Hundred and One Dalmatians')"
   ]
  },
  {
   "cell_type": "code",
   "execution_count": 58,
   "metadata": {},
   "outputs": [
    {
     "data": {
      "text/plain": [
       "'98%'"
      ]
     },
     "execution_count": 58,
     "metadata": {},
     "output_type": "execute_result"
    }
   ],
   "source": [
    "def get_tomato(movie):\n",
    "    score = movie.get('Ratings',[])\n",
    "    for s in score:\n",
    "        if s['Source'] == 'Rotten Tomatoes':\n",
    "            return s['Value']\n",
    "    return None\n",
    "\n",
    "get_tomato(get_ombd('One Hundred and One Dalmatians'))"
   ]
  },
  {
   "cell_type": "code",
   "execution_count": 59,
   "metadata": {},
   "outputs": [],
   "source": [
    "for movie in disney_movies:\n",
    "    title = movie['title']\n",
    "    movie['imbd'] = get_ombd(title).get('imdbRating',None)\n",
    "    movie['metascore'] = get_ombd(title).get('Metascore',None)\n",
    "    movie['rotten_tomatoes'] = get_tomato(get_ombd(title))"
   ]
  },
  {
   "cell_type": "code",
   "execution_count": 60,
   "metadata": {},
   "outputs": [
    {
     "data": {
      "text/plain": [
       "{'title': 'One Hundred and One Dalmatians',\n",
       " 'Directed by': ['Clyde Geronimi', 'Hamilton Luske', 'Wolfgang Reitherman'],\n",
       " 'Story by': 'Bill Peet',\n",
       " 'Based on': ['The Hundred and One Dalmatians', 'by', 'Dodie Smith'],\n",
       " 'Produced by': 'Walt Disney',\n",
       " 'Starring': ['Rod Taylor',\n",
       "  'Cate Bauer',\n",
       "  'Betty Lou Gerson',\n",
       "  'Ben Wright',\n",
       "  'Bill Lee (singing voice)',\n",
       "  'Lisa Davis',\n",
       "  'Martha Wentworth'],\n",
       " 'Edited by': ['Roy M. Brewer, Jr.', 'Donald Halliday'],\n",
       " 'Music by': 'George Bruns',\n",
       " 'Production company': 'Walt Disney Productions',\n",
       " 'Distributed by': 'Buena Vista Distribution',\n",
       " 'Release date': ['January 25, 1961 ( 1961-01-25 )'],\n",
       " 'Running time': '79 minutes',\n",
       " 'Country': 'United States',\n",
       " 'Language': 'English',\n",
       " 'Budget': '$3.6 million',\n",
       " 'Box office': '$303 million',\n",
       " 'Running time (int)': 79,\n",
       " 'Release date (datetime)': 'January 25, 1961',\n",
       " 'budget in dollars': 3600000,\n",
       " 'box in dollars': 303000000,\n",
       " 'imbd': '7.3',\n",
       " 'metascore': '83',\n",
       " 'rotten_tomatoes': '98%'}"
      ]
     },
     "execution_count": 60,
     "metadata": {},
     "output_type": "execute_result"
    }
   ],
   "source": [
    "disney_movies[50]"
   ]
  },
  {
   "cell_type": "markdown",
   "metadata": {},
   "source": [
    "### 5. Save in dataframe and csv"
   ]
  },
  {
   "cell_type": "code",
   "execution_count": 101,
   "metadata": {},
   "outputs": [],
   "source": [
    "import pandas as pd\n",
    "df = pd.DataFrame(disney_movies)"
   ]
  },
  {
   "cell_type": "code",
   "execution_count": 102,
   "metadata": {},
   "outputs": [],
   "source": [
    "def release_datetime(date):\n",
    "\n",
    "    ftms = [\"%B %d, %Y\",\"%d %B %Y\"]\n",
    "\n",
    "    for fmt in ftms:\n",
    "        try:\n",
    "            return pd.to_datetime(date,format=fmt)\n",
    "        except:\n",
    "            pass"
   ]
  },
  {
   "cell_type": "code",
   "execution_count": 103,
   "metadata": {},
   "outputs": [],
   "source": [
    "df['Release date (datetime)'] = df['Release date (datetime)'].apply(release_datetime)"
   ]
  },
  {
   "cell_type": "code",
   "execution_count": 104,
   "metadata": {},
   "outputs": [
    {
     "name": "stdout",
     "output_type": "stream",
     "text": [
      "<class 'pandas.core.frame.DataFrame'>\n",
      "RangeIndex: 449 entries, 0 to 448\n",
      "Data columns (total 37 columns):\n",
      " #   Column                   Non-Null Count  Dtype         \n",
      "---  ------                   --------------  -----         \n",
      " 0   title                    449 non-null    object        \n",
      " 1   Production company       190 non-null    object        \n",
      " 2   Release date             443 non-null    object        \n",
      " 3   Running time             437 non-null    object        \n",
      " 4   Country                  401 non-null    object        \n",
      " 5   Language                 432 non-null    object        \n",
      " 6   Box office               374 non-null    object        \n",
      " 7   Running time (int)       437 non-null    float64       \n",
      " 8   Release date (datetime)  437 non-null    datetime64[ns]\n",
      " 9   budget in dollars        284 non-null    float64       \n",
      " 10  box in dollars           369 non-null    float64       \n",
      " 11  imbd                     435 non-null    object        \n",
      " 12  metascore                435 non-null    object        \n",
      " 13  rotten_tomatoes          216 non-null    object        \n",
      " 14  Directed by              448 non-null    object        \n",
      " 15  Written by               202 non-null    object        \n",
      " 16  Based on                 233 non-null    object        \n",
      " 17  Produced by              440 non-null    object        \n",
      " 18  Starring                 414 non-null    object        \n",
      " 19  Music by                 444 non-null    object        \n",
      " 20  Distributed by           447 non-null    object        \n",
      " 21  Budget                   290 non-null    object        \n",
      " 22  Story by                 150 non-null    object        \n",
      " 23  Narrated by              56 non-null     object        \n",
      " 24  Cinematography           357 non-null    object        \n",
      " 25  Edited by                407 non-null    object        \n",
      " 26  Languages                16 non-null     object        \n",
      " 27  Screenplay by            210 non-null    object        \n",
      " 28  Countries                45 non-null     object        \n",
      " 29  Production companies     259 non-null    object        \n",
      " 30  Color process            3 non-null      object        \n",
      " 31  Japanese                 5 non-null      object        \n",
      " 32  Hepburn                  5 non-null      object        \n",
      " 33  Adaptation by            1 non-null      object        \n",
      " 34  Animation by             2 non-null      object        \n",
      " 35  Traditional              2 non-null      object        \n",
      " 36  Simplified               2 non-null      object        \n",
      "dtypes: datetime64[ns](1), float64(3), object(33)\n",
      "memory usage: 129.9+ KB\n"
     ]
    }
   ],
   "source": [
    "df.info()"
   ]
  },
  {
   "cell_type": "code",
   "execution_count": 105,
   "metadata": {},
   "outputs": [],
   "source": [
    "df.drop(df.columns[[2,3,6,21,23,26,28,30,31,32,33,34,35,36]],axis=1,inplace=True)"
   ]
  },
  {
   "cell_type": "code",
   "execution_count": 106,
   "metadata": {},
   "outputs": [
    {
     "data": {
      "text/plain": [
       "(449, 23)"
      ]
     },
     "execution_count": 106,
     "metadata": {},
     "output_type": "execute_result"
    }
   ],
   "source": [
    "df.shape"
   ]
  },
  {
   "cell_type": "code",
   "execution_count": 107,
   "metadata": {},
   "outputs": [
    {
     "data": {
      "text/html": [
       "<div>\n",
       "<style scoped>\n",
       "    .dataframe tbody tr th:only-of-type {\n",
       "        vertical-align: middle;\n",
       "    }\n",
       "\n",
       "    .dataframe tbody tr th {\n",
       "        vertical-align: top;\n",
       "    }\n",
       "\n",
       "    .dataframe thead th {\n",
       "        text-align: right;\n",
       "    }\n",
       "</style>\n",
       "<table border=\"1\" class=\"dataframe\">\n",
       "  <thead>\n",
       "    <tr style=\"text-align: right;\">\n",
       "      <th></th>\n",
       "      <th>title</th>\n",
       "      <th>Production company</th>\n",
       "      <th>Country</th>\n",
       "      <th>Language</th>\n",
       "      <th>Running time (int)</th>\n",
       "      <th>Release date (datetime)</th>\n",
       "      <th>budget in dollars</th>\n",
       "      <th>box in dollars</th>\n",
       "      <th>imbd</th>\n",
       "      <th>metascore</th>\n",
       "      <th>...</th>\n",
       "      <th>Based on</th>\n",
       "      <th>Produced by</th>\n",
       "      <th>Starring</th>\n",
       "      <th>Music by</th>\n",
       "      <th>Distributed by</th>\n",
       "      <th>Story by</th>\n",
       "      <th>Cinematography</th>\n",
       "      <th>Edited by</th>\n",
       "      <th>Screenplay by</th>\n",
       "      <th>Production companies</th>\n",
       "    </tr>\n",
       "  </thead>\n",
       "  <tbody>\n",
       "    <tr>\n",
       "      <th>50</th>\n",
       "      <td>One Hundred and One Dalmatians</td>\n",
       "      <td>Walt Disney Productions</td>\n",
       "      <td>United States</td>\n",
       "      <td>English</td>\n",
       "      <td>79.0</td>\n",
       "      <td>1961-01-25</td>\n",
       "      <td>3600000.0</td>\n",
       "      <td>303000000.0</td>\n",
       "      <td>7.3</td>\n",
       "      <td>83</td>\n",
       "      <td>...</td>\n",
       "      <td>[The Hundred and One Dalmatians, by, Dodie Smith]</td>\n",
       "      <td>Walt Disney</td>\n",
       "      <td>[Rod Taylor, Cate Bauer, Betty Lou Gerson, Ben...</td>\n",
       "      <td>George Bruns</td>\n",
       "      <td>Buena Vista Distribution</td>\n",
       "      <td>Bill Peet</td>\n",
       "      <td>NaN</td>\n",
       "      <td>[Roy M. Brewer, Jr., Donald Halliday]</td>\n",
       "      <td>NaN</td>\n",
       "      <td>NaN</td>\n",
       "    </tr>\n",
       "  </tbody>\n",
       "</table>\n",
       "<p>1 rows × 23 columns</p>\n",
       "</div>"
      ],
      "text/plain": [
       "                             title       Production company        Country  \\\n",
       "50  One Hundred and One Dalmatians  Walt Disney Productions  United States   \n",
       "\n",
       "   Language  Running time (int) Release date (datetime)  budget in dollars  \\\n",
       "50  English                79.0              1961-01-25          3600000.0   \n",
       "\n",
       "    box in dollars imbd metascore  ...  \\\n",
       "50     303000000.0  7.3        83  ...   \n",
       "\n",
       "                                             Based on  Produced by  \\\n",
       "50  [The Hundred and One Dalmatians, by, Dodie Smith]  Walt Disney   \n",
       "\n",
       "                                             Starring      Music by  \\\n",
       "50  [Rod Taylor, Cate Bauer, Betty Lou Gerson, Ben...  George Bruns   \n",
       "\n",
       "              Distributed by   Story by Cinematography  \\\n",
       "50  Buena Vista Distribution  Bill Peet            NaN   \n",
       "\n",
       "                                Edited by Screenplay by Production companies  \n",
       "50  [Roy M. Brewer, Jr., Donald Halliday]           NaN                  NaN  \n",
       "\n",
       "[1 rows x 23 columns]"
      ]
     },
     "execution_count": 107,
     "metadata": {},
     "output_type": "execute_result"
    }
   ],
   "source": [
    "df[df.title=='One Hundred and One Dalmatians']"
   ]
  },
  {
   "cell_type": "code",
   "execution_count": 108,
   "metadata": {},
   "outputs": [],
   "source": [
    "df.to_csv('disney_movies.csv')"
   ]
  }
 ],
 "metadata": {
  "kernelspec": {
   "display_name": "Python 3",
   "language": "python",
   "name": "python3"
  },
  "language_info": {
   "codemirror_mode": {
    "name": "ipython",
    "version": 3
   },
   "file_extension": ".py",
   "mimetype": "text/x-python",
   "name": "python",
   "nbconvert_exporter": "python",
   "pygments_lexer": "ipython3",
   "version": "3.8.5"
  }
 },
 "nbformat": 4,
 "nbformat_minor": 4
}
